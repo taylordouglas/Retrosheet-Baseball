{
 "cells": [
  {
   "cell_type": "code",
   "execution_count": 1,
   "metadata": {},
   "outputs": [],
   "source": [
    "import requests\n",
    "import os\n",
    "import pyodbc\n",
    "from os import path\n",
    "import zipfile\n",
    "from shutil import copyfile\n",
    "from datetime import datetime\n",
    "import csv\n",
    "\n",
    "from RetrieveRetrosheet import Retrosheet as rs\n",
    "from RetrieveRetrosheet import RetroSQL as rsql"
   ]
  },
  {
   "cell_type": "code",
   "execution_count": null,
   "metadata": {},
   "outputs": [],
   "source": [
    "def create_connection(driver, server, db, tc = 'yes'):\n",
    "    conn = pyodbc.connect(\"\"\"Driver={};\n",
    "                      Server={};\n",
    "                      Database={};\n",
    "                      Trusted_Connection={};\"\"\".format(driver,server,db,tc))\n",
    "    \n",
    "    cursor = conn.cursor()\n",
    "    \n",
    "    return conn, cursor, db\n",
    "\n"
   ]
  },
  {
   "cell_type": "code",
   "execution_count": null,
   "metadata": {},
   "outputs": [],
   "source": [
    "conn, cursor, db = create_connection('SQL Server', {Server}, {Database})"
   ]
  },
  {
   "cell_type": "code",
   "execution_count": null,
   "metadata": {},
   "outputs": [],
   "source": [
    "rs().single_tocsv(2000, 2004, 'reg')\n",
    "rs().single_tocsv(2000, 2004, 'post')"
   ]
  },
  {
   "cell_type": "code",
   "execution_count": 2,
   "metadata": {},
   "outputs": [],
   "source": [
    "#r = rsql('SQL Server', 'DLE5440-6KKCM12\\LOCALBASEBALL', 'RetroDev')\n",
    "\n",
    "r = rsql()"
   ]
  },
  {
   "cell_type": "code",
   "execution_count": 3,
   "metadata": {},
   "outputs": [],
   "source": [
    "r.create_connection('SQL Server', 'DLE5440-6KKCM12\\LOCALBASEBALL', 'RetroDev', 'yes')"
   ]
  },
  {
   "cell_type": "code",
   "execution_count": null,
   "metadata": {
    "scrolled": false
   },
   "outputs": [],
   "source": [
    "r.insert_stagepitch()"
   ]
  },
  {
   "cell_type": "code",
   "execution_count": null,
   "metadata": {},
   "outputs": [],
   "source": [
    "r.close_connection()"
   ]
  },
  {
   "cell_type": "code",
   "execution_count": null,
   "metadata": {},
   "outputs": [],
   "source": []
  }
 ],
 "metadata": {
  "kernelspec": {
   "display_name": "Python 3",
   "language": "python",
   "name": "python3"
  },
  "language_info": {
   "codemirror_mode": {
    "name": "ipython",
    "version": 3
   },
   "file_extension": ".py",
   "mimetype": "text/x-python",
   "name": "python",
   "nbconvert_exporter": "python",
   "pygments_lexer": "ipython3",
   "version": "3.6.4"
  }
 },
 "nbformat": 4,
 "nbformat_minor": 2
}
