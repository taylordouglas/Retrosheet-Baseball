{
 "cells": [
  {
   "cell_type": "code",
   "execution_count": 1,
   "metadata": {},
   "outputs": [],
   "source": [
    "import os\n",
    "import pyodbc\n",
    "from os.path import join\n",
    "from datetime import datetime\n",
    "from RetrieveRetrosheet import Retrosheet\n",
    "\n"
   ]
  },
  {
   "cell_type": "code",
   "execution_count": 2,
   "metadata": {},
   "outputs": [],
   "source": [
    "def create_connection(driver, server, db, tc = 'yes'):\n",
    "    conn = pyodbc.connect(\"\"\"Driver={};\n",
    "                      Server={};\n",
    "                      Database={};\n",
    "                      Trusted_Connection={};\"\"\".format(driver,server,db,tc))\n",
    "    \n",
    "    return conn"
   ]
  },
  {
   "cell_type": "code",
   "execution_count": 3,
   "metadata": {},
   "outputs": [],
   "source": [
    "conn = create_connection('SQL Server', {Server}, {Database})\n",
    "\n"
   ]
  },
  {
   "cell_type": "code",
   "execution_count": 4,
   "metadata": {},
   "outputs": [],
   "source": [
    "def import_play(startyear, endyear = None, path = 'C:\\\\retro\\\\RawFiles\\\\csvs', db = 'Retrosheet'):\n",
    "    \n",
    "    cursor = conn.cursor()\n",
    "    now = datetime.now()\n",
    "\n",
    "    if isinstance(startyear, int):\n",
    "        \n",
    "        if not isinstance(endyear, int):\n",
    "            endyear = startyear\n",
    "            \n",
    "        if endyear < startyear:\n",
    "            endyear = startyear\n",
    "        \n",
    "        logfile = open('C:\\\\retro\\\\ProcessLog\\\\log_{}{}{}.txt'.format(now.year, now.month, now.day), 'a')\n",
    "        \n",
    "        try:\n",
    "            logfile.write('\\n\\nStarting Additional Processing for import_play as of {}.\\n\\n'.format(now))\n",
    "            \n",
    "        except OSError:\n",
    "            logfile = open('C:\\\\retro\\\\ProcessLog\\\\log_{}{}{}.txt'.format(now.year, now.month, now.day), 'w')\n",
    "            logfile.write('Starting new file as of {}\\n\\nStarting import_play:'.format(now))\n",
    "        \n",
    "        for (dirname, dirs, files) in os.walk(path):\n",
    "            i = 1\n",
    "            oldcount = int(cursor.execute('Select Count(*) From stage.PlayByPlay').fetchval())\n",
    "            for filename in files:\n",
    "                \n",
    "                f = join(path, filename)\n",
    "                \n",
    "                if int(filename[0:4]) >= startyear and int(filename[0:4]) <= endyear:\n",
    "                    \n",
    "                    sqlcmd = '''Bulk insert stage.PlayByPlay\n",
    "                                From ''' + '\\'' + f + '\\'' + \\\n",
    "                                '''\\nWITH\n",
    "                                (\n",
    "                                Firstrow = 1,\n",
    "                                FieldTerminator = ',',\n",
    "                                RowTerminator = '\\n',\n",
    "                                Format = 'CSV'\n",
    "                                )'''\n",
    "                    logfile.write('\\n\\nProcessing: {}'.format(f))\n",
    "                    #print(sqlcmd)\n",
    "                    try:\n",
    "                        cursor.execute(sqlcmd)\n",
    "                        cursor.commit()\n",
    "                        success = 1\n",
    "                    except: \n",
    "                        logfile.write('\\n\\nERROR--Could not execute: {}\\n\\n'.format(sqlcmd))\n",
    "                        success = 0\n",
    "                    \n",
    "                    newcount = int(cursor.execute('Select Count(*) From stage.PlayByPlay').fetchval())\n",
    "                    diff = newcount-oldcount\n",
    "                    logcmd = \"\"\"Insert Into ETL_Processing.dbo.FileImport \n",
    "                                (ImportedFile, RowsInserted, InsertTime, DestTable, IsSuccessful, db) \n",
    "                                \\nValues('{}', {}, GetDate(), 'stage.PlayByPlay', {}, '{}')\"\"\".format(f, diff, success, db)\n",
    "                    #+ f + '\\', ' + str(diff) + ', GetDate())'\n",
    "                    logfile.write('\\n\\n{}'.format(logcmd))\n",
    "                    cursor.execute(logcmd)\n",
    "                    cursor.commit()\n",
    "                    logfile.write('\\n\\nRows inserted into stage.PlayByPlay: {}'.format(str(diff)))\n",
    "                    logfile.write('\\n\\nDone with file: {}'.format(f))\n",
    "                    \n",
    "                    oldcount += diff\n",
    "                    i +=1\n",
    "                \n",
    "                else:\n",
    "                    logfile.write('\\n\\nSkipped: {}\\n\\tNo rows were processed'.format(f))\n",
    "                #if i >=1:\n",
    "                #    break\n",
    "        \n",
    "    else:\n",
    "        print('Startyear must be an integer value')\n",
    "    \n",
    "    logfile.close()\n",
    "    cursor.close()"
   ]
  },
  {
   "cell_type": "code",
   "execution_count": 5,
   "metadata": {},
   "outputs": [],
   "source": [
    "import_play(1998, 2000, db = 'Retrodev')"
   ]
  },
  {
   "cell_type": "code",
   "execution_count": 50,
   "metadata": {},
   "outputs": [],
   "source": [
    "conn.close()"
   ]
  },
  {
   "cell_type": "code",
   "execution_count": null,
   "metadata": {},
   "outputs": [],
   "source": []
  }
 ],
 "metadata": {
  "kernelspec": {
   "display_name": "Python 3",
   "language": "python",
   "name": "python3"
  },
  "language_info": {
   "codemirror_mode": {
    "name": "ipython",
    "version": 3
   },
   "file_extension": ".py",
   "mimetype": "text/x-python",
   "name": "python",
   "nbconvert_exporter": "python",
   "pygments_lexer": "ipython3",
   "version": "3.6.4"
  }
 },
 "nbformat": 4,
 "nbformat_minor": 2
}
