{
 "cells": [
  {
   "cell_type": "code",
   "execution_count": 11,
   "metadata": {},
   "outputs": [],
   "source": [
    "import os\n",
    "import pyodbc\n",
    "import numpy as np\n",
    "import pandas as pd\n",
    "import datetime"
   ]
  },
  {
   "cell_type": "code",
   "execution_count": null,
   "metadata": {},
   "outputs": [],
   "source": []
  },
  {
   "cell_type": "code",
   "execution_count": 2,
   "metadata": {},
   "outputs": [],
   "source": [
    "conn = pyodbc.connect('Driver={SQL Server};'\n", #Connection Removed
    "                      'Server={Server};'\n",
    "                      'Database={Database};'\n",
    "                      'Trusted_Connection=yes;')\n",
    "\n",
    "cursor = conn.cursor()"
   ]
  },
  {
   "cell_type": "code",
   "execution_count": 3,
   "metadata": {},
   "outputs": [],
   "source": [
    "seq = cursor.execute('exec get_pitchsequence').fetchall()"
   ]
  },
  {
   "cell_type": "code",
   "execution_count": 4,
   "metadata": {},
   "outputs": [
    {
     "data": {
      "text/plain": [
       "('ANA201004050', 1, 'CSBFFBFC')"
      ]
     },
     "execution_count": 4,
     "metadata": {},
     "output_type": "execute_result"
    }
   ],
   "source": [
    "seq[0]"
   ]
  },
  {
   "cell_type": "code",
   "execution_count": 27,
   "metadata": {},
   "outputs": [
    {
     "name": "stdout",
     "output_type": "stream",
     "text": [
      "ANA201004050 1 1 C\n",
      "ANA201004050 1 2 S\n",
      "ANA201004050 1 3 B\n",
      "ANA201004050 1 4 F\n",
      "ANA201004050 1 5 F\n",
      "ANA201004050 1 6 B\n",
      "ANA201004050 1 7 F\n",
      "ANA201004050 1 8 C\n",
      "ANA201004050 2 1 F\n",
      "ANA201004050 2 2 X\n",
      "ANA201004050 3 1 C\n",
      "ANA201004050 3 2 B\n",
      "ANA201004050 3 3 X\n",
      "ANA201004050 4 1 B\n",
      "ANA201004050 4 2 B\n",
      "ANA201004050 4 3 C\n",
      "ANA201004050 4 4 C\n",
      "ANA201004050 4 5 F\n",
      "ANA201004050 4 6 B\n",
      "ANA201004050 4 7 F\n",
      "ANA201004050 4 8 F\n",
      "ANA201004050 4 9 F\n",
      "ANA201004050 4 10 B\n",
      "ANA201004050 5 1 C\n",
      "ANA201004050 5 2 X\n",
      "ANA201004050 7 1 B\n",
      "ANA201004050 7 2 .\n",
      "ANA201004050 7 3 B\n",
      "ANA201004050 7 4 2\n",
      "ANA201004050 7 5 B\n",
      "ANA201004050 7 6 B\n",
      "ANA201004050 8 1 C\n",
      "ANA201004050 8 2 F\n",
      "ANA201004050 8 3 X\n",
      "ANA201004050 9 1 B\n",
      "ANA201004050 9 2 C\n",
      "ANA201004050 9 3 X\n",
      "ANA201004050 10 1 B\n",
      "ANA201004050 10 2 B\n",
      "ANA201004050 10 3 X\n",
      "ANA201004050 11 1 C\n",
      "ANA201004050 11 2 B\n",
      "ANA201004050 11 3 F\n",
      "ANA201004050 11 4 B\n",
      "ANA201004050 11 5 B\n",
      "ANA201004050 11 6 >\n",
      "ANA201004050 11 7 X\n"
     ]
    }
   ],
   "source": [
    "i = 0\n",
    "\n",
    "now = datetime.datetime.now()\n",
    "\n",
    "logfile = open('C:\\\\backups\\\\ProcessLog\\\\log_{}{}{}.txt'.format(now.year, now.month, now.day), 'a')\n",
    "\n",
    "try:\n",
    "    logfile.write('\\n\\nStarting Additional Processing as of {}.\\n\\n'.format(datetime.datetime.now()))\n",
    "except OSError:\n",
    "    logfile = open('C:\\\\backups\\\\ProcessLog\\\\log_{}{}{}.txt'.format(now.year, now.month, now.day), 'w')\n",
    "    logfile.write('Starting new file as of {}\\n\\n'.format(datetime.datetime.now()))\n",
    "\n",
    "for g, e, s in seq:\n",
    "    a = 1\n",
    "    for p in s:\n",
    "        print(g, e, a, p)\n",
    "        cmd = \"Insert into stage.PitchByPitch Values ('{}', {}, {}, '{}')\".format(g, e, a, p)\n",
    "        \n",
    "        try:\n",
    "            cursor.execute(cmd)\n",
    "            cursor.commit()\n",
    "        except:\n",
    "            logfile.write('Could not execute {}\\n\\n'.format(cmd))\n",
    "            \n",
    "        a +=1\n",
    "    \n",
    "    i += 1\n",
    "    if i >= 50000:\n",
    "        if i % 50000 == 0:\n",
    "            logfile.write('{} rows processed'.format(i))\n",
    "logfile.close()"
   ]
  },
  {
   "cell_type": "code",
   "execution_count": 3,
   "metadata": {},
   "outputs": [],
   "source": [
    "seq = pd.read_sql('''\n",
    "                    Select GameId\n",
    "                    , EventNum\n",
    "                    , ISNULL(PitchSequence, 'Z') PitchSequence\n",
    "                    From stage.PlayByPlay\n",
    "                    Where BatterEventFlag = 'T'\n",
    "                    Or (BatterEventFlag = 'f'\n",
    "                    and (outs = 2 and outsonplay = 1) or (outs = 1 and outsonplay = 2) or (outs = 0 and outsonplay = 3))\n",
    "                    Or ((HomeScore = VisitorScore \n",
    "                    and (RunnerOn1stDest >= 4\n",
    "                    or RunnerOn2ndDest >= 4\n",
    "                    or RunnerOn3rdDest >= 4\n",
    "                    or batterdest >= 4) \n",
    "                    and inning >= 9 \n",
    "                    and BattingTeam = 1\n",
    "                    and BatterEventFlag = 'F'))\n",
    "                    Order by GameId, EventNum\n",
    "                    ''', conn)"
   ]
  },
  {
   "cell_type": "code",
   "execution_count": 4,
   "metadata": {},
   "outputs": [
    {
     "name": "stdout",
     "output_type": "stream",
     "text": [
      "<class 'pandas.core.frame.DataFrame'>\n",
      "RangeIndex: 1666352 entries, 0 to 1666351\n",
      "Data columns (total 3 columns):\n",
      "GameId           1666352 non-null object\n",
      "EventNum         1666352 non-null int64\n",
      "PitchSequence    1666352 non-null object\n",
      "dtypes: int64(1), object(2)\n",
      "memory usage: 38.1+ MB\n"
     ]
    }
   ],
   "source": [
    "seq.info()"
   ]
  },
  {
   "cell_type": "code",
   "execution_count": 6,
   "metadata": {},
   "outputs": [
    {
     "data": {
      "text/plain": [
       "[]"
      ]
     },
     "execution_count": 6,
     "metadata": {},
     "output_type": "execute_result"
    }
   ],
   "source": [
    "#cursor.execute('Delete From stage.PitchByPitch')\n",
    "cursor.execute('Select * from stage.PitchByPitch').fetchall()"
   ]
  },
  {
   "cell_type": "code",
   "execution_count": 16,
   "metadata": {},
   "outputs": [
    {
     "name": "stdout",
     "output_type": "stream",
     "text": [
      "500000 rows processed\n",
      "1000000 rows processed\n",
      "1500000 rows processed\n",
      "2000000 rows processed\n",
      "2500000 rows processed\n",
      "3000000 rows processed\n",
      "3500000 rows processed\n",
      "4000000 rows processed\n",
      "4500000 rows processed\n",
      "5000000 rows processed\n",
      "5500000 rows processed\n",
      "6000000 rows processed\n",
      "6500000 rows processed\n",
      "7000000 rows processed\n"
     ]
    }
   ],
   "source": [
    "i = 0\n",
    "for g, e, s in seq.itertuples(index = False):\n",
    "    a = 1\n",
    "    #if i == 15:\n",
    "    #    break\n",
    "    for p in s:\n",
    "        cmd = \"Insert into stage.PitchByPitch Values ('{}', {}, {}, '{}')\".format(g, e, a, p)\n",
    "        #print(cmd)\n",
    "        cursor.execute(cmd)\n",
    "        cursor.commit()\n",
    "        i += 1\n",
    "        a += 1\n",
    "        if i >= 500000:\n",
    "            if i % 500000 == 0:\n",
    "                print('{} rows processed'.format(i))"
   ]
  },
  {
   "cell_type": "code",
   "execution_count": 17,
   "metadata": {},
   "outputs": [
    {
     "data": {
      "text/plain": [
       "('ANA201004050', 1, 1, 'C')"
      ]
     },
     "execution_count": 17,
     "metadata": {},
     "output_type": "execute_result"
    }
   ],
   "source": [
    "cursor.execute('Select * from stage.PitchByPitch').fetchone()"
   ]
  },
  {
   "cell_type": "markdown",
   "metadata": {},
   "source": [
    "# Catch Missed Pitch Sequences\n"
   ]
  },
  {
   "cell_type": "code",
   "execution_count": 3,
   "metadata": {},
   "outputs": [],
   "source": [
    "seq = pd.read_sql('''\n",
    "                    Select GameId\n",
    "                    , EventNum\n",
    "                    , ISNULL(PitchSequence, 'Z') PitchSequence\n",
    "                    From stage.PlayByPlay\n",
    "                    Where \n",
    "                    ((HomeScore = VisitorScore \n",
    "                    and (RunnerOn1stDest >= 4\n",
    "                    or RunnerOn2ndDest >= 4\n",
    "                    or RunnerOn3rdDest >= 4\n",
    "                    or batterdest >= 4) \n",
    "                    and inning >= 9 \n",
    "                    and BattingTeam = 1\n",
    "                    and BatterEventFlag = 'F'))\n",
    "                    Order by GameId, EventNum\n",
    "                    ''', conn)"
   ]
  },
  {
   "cell_type": "code",
   "execution_count": 5,
   "metadata": {},
   "outputs": [
    {
     "name": "stdout",
     "output_type": "stream",
     "text": [
      "1 rows processed\n",
      "2 rows processed\n",
      "3 rows processed\n",
      "4 rows processed\n",
      "5 rows processed\n",
      "6 rows processed\n",
      "7 rows processed\n",
      "8 rows processed\n",
      "9 rows processed\n",
      "10 rows processed\n",
      "11 rows processed\n",
      "12 rows processed\n",
      "13 rows processed\n",
      "14 rows processed\n",
      "15 rows processed\n",
      "16 rows processed\n",
      "17 rows processed\n",
      "18 rows processed\n",
      "19 rows processed\n",
      "20 rows processed\n",
      "21 rows processed\n",
      "22 rows processed\n",
      "23 rows processed\n",
      "24 rows processed\n",
      "25 rows processed\n",
      "26 rows processed\n",
      "27 rows processed\n",
      "28 rows processed\n",
      "29 rows processed\n",
      "30 rows processed\n",
      "31 rows processed\n",
      "32 rows processed\n",
      "33 rows processed\n",
      "34 rows processed\n",
      "35 rows processed\n",
      "36 rows processed\n",
      "37 rows processed\n",
      "38 rows processed\n",
      "39 rows processed\n",
      "40 rows processed\n",
      "41 rows processed\n",
      "42 rows processed\n",
      "43 rows processed\n",
      "44 rows processed\n",
      "45 rows processed\n",
      "46 rows processed\n",
      "47 rows processed\n",
      "48 rows processed\n",
      "49 rows processed\n",
      "50 rows processed\n",
      "51 rows processed\n",
      "52 rows processed\n",
      "53 rows processed\n",
      "54 rows processed\n",
      "55 rows processed\n",
      "56 rows processed\n",
      "57 rows processed\n",
      "58 rows processed\n",
      "59 rows processed\n",
      "60 rows processed\n",
      "61 rows processed\n",
      "62 rows processed\n",
      "63 rows processed\n",
      "64 rows processed\n",
      "65 rows processed\n",
      "66 rows processed\n",
      "67 rows processed\n",
      "68 rows processed\n",
      "69 rows processed\n",
      "70 rows processed\n",
      "71 rows processed\n",
      "72 rows processed\n",
      "73 rows processed\n",
      "74 rows processed\n",
      "75 rows processed\n",
      "76 rows processed\n",
      "77 rows processed\n",
      "78 rows processed\n",
      "79 rows processed\n",
      "80 rows processed\n",
      "81 rows processed\n",
      "82 rows processed\n",
      "83 rows processed\n",
      "84 rows processed\n",
      "85 rows processed\n",
      "86 rows processed\n",
      "87 rows processed\n",
      "88 rows processed\n",
      "89 rows processed\n",
      "90 rows processed\n",
      "91 rows processed\n",
      "92 rows processed\n",
      "93 rows processed\n",
      "94 rows processed\n",
      "95 rows processed\n",
      "96 rows processed\n",
      "97 rows processed\n",
      "98 rows processed\n",
      "99 rows processed\n",
      "100 rows processed\n",
      "101 rows processed\n",
      "102 rows processed\n",
      "103 rows processed\n",
      "104 rows processed\n",
      "105 rows processed\n",
      "106 rows processed\n",
      "107 rows processed\n",
      "108 rows processed\n",
      "109 rows processed\n",
      "110 rows processed\n",
      "111 rows processed\n",
      "112 rows processed\n",
      "113 rows processed\n",
      "114 rows processed\n",
      "115 rows processed\n",
      "116 rows processed\n",
      "117 rows processed\n",
      "118 rows processed\n",
      "119 rows processed\n",
      "120 rows processed\n",
      "121 rows processed\n",
      "122 rows processed\n",
      "123 rows processed\n",
      "124 rows processed\n",
      "125 rows processed\n",
      "126 rows processed\n",
      "127 rows processed\n",
      "128 rows processed\n",
      "129 rows processed\n",
      "130 rows processed\n",
      "131 rows processed\n",
      "132 rows processed\n",
      "133 rows processed\n",
      "134 rows processed\n",
      "135 rows processed\n",
      "136 rows processed\n",
      "137 rows processed\n",
      "138 rows processed\n",
      "139 rows processed\n",
      "140 rows processed\n",
      "141 rows processed\n",
      "142 rows processed\n",
      "143 rows processed\n",
      "144 rows processed\n",
      "145 rows processed\n",
      "146 rows processed\n",
      "147 rows processed\n",
      "148 rows processed\n",
      "149 rows processed\n",
      "150 rows processed\n",
      "151 rows processed\n",
      "152 rows processed\n",
      "153 rows processed\n"
     ]
    }
   ],
   "source": [
    "i = 0\n",
    "for g, e, s in seq.itertuples(index = False):\n",
    "    a = 1\n",
    "    #if i == 15:\n",
    "    #    break\n",
    "    for p in s:\n",
    "        cmd = \"Insert into stage.PitchByPitch Values ('{}', {}, {}, '{}')\".format(g, e, a, p)\n",
    "        #print(cmd)\n",
    "        try:\n",
    "            cursor.execute(cmd)\n",
    "            cursor.commit()\n",
    "        except:\n",
    "            print('Failed to run{}'.format(cmd))\n",
    "        i += 1\n",
    "        a += 1\n",
    "        print('{} rows processed'.format(i))"
   ]
  },
  {
   "cell_type": "code",
   "execution_count": null,
   "metadata": {},
   "outputs": [],
   "source": []
  }
 ],
 "metadata": {
  "kernelspec": {
   "display_name": "Python 3",
   "language": "python",
   "name": "python3"
  },
  "language_info": {
   "codemirror_mode": {
    "name": "ipython",
    "version": 3
   },
   "file_extension": ".py",
   "mimetype": "text/x-python",
   "name": "python",
   "nbconvert_exporter": "python",
   "pygments_lexer": "ipython3",
   "version": "3.6.4"
  }
 },
 "nbformat": 4,
 "nbformat_minor": 2
}
